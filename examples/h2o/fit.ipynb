{
 "cells": [
  {
   "cell_type": "markdown",
   "metadata": {
    "collapsed": true
   },
   "source": [
    "# H2O workflow"
   ]
  },
  {
   "cell_type": "markdown",
   "metadata": {},
   "source": [
    "## Imports"
   ]
  },
  {
   "cell_type": "code",
   "execution_count": 3,
   "metadata": {},
   "outputs": [],
   "source": [
    "import sys\n",
    "import os\n",
    "sys.path.append(os.path.split(os.path.split(os.getcwd())[0])[0])\n",
    "config_filepath = os.path.join(os.getcwd(),\"config/fit_config_h2o.json\")\n",
    "notebook_filepath = os.path.join(os.getcwd(),\"fit.ipynb\")\n",
    "import uuid\n",
    "import uuid\n",
    "import json\n",
    "import datetime\n",
    "import getpass\n",
    "\n",
    "from mercury_ml.common import tasks\n",
    "from mercury_ml.common import utils\n",
    "from mercury_ml.common import containers as common_containers\n",
    "from mercury_ml.h2o import containers as h2o_containers"
   ]
  },
  {
   "cell_type": "code",
   "execution_count": 4,
   "metadata": {},
   "outputs": [],
   "source": [
    "#For testing purposes only!\n",
    "\n",
    "if os.path.isdir(\"./example_results\"):\n",
    "    import shutil\n",
    "    shutil.rmtree(\"./example_results\")"
   ]
  },
  {
   "cell_type": "markdown",
   "metadata": {},
   "source": [
    "## Helpers\n",
    "\n",
    "These functions will help with the flow of this particular notebook"
   ]
  },
  {
   "cell_type": "code",
   "execution_count": 5,
   "metadata": {},
   "outputs": [],
   "source": [
    "def print_data_bunch(data_bunch):\n",
    "\n",
    "    for data_set_name, data_set in data_bunch.__dict__.items():\n",
    "        print(\"{} <{}>\".format(data_set_name, type(data_set).__name__))\n",
    "        for data_wrapper_name, data_wrapper in data_set.__dict__.items():\n",
    "            print(\"  {} <{}>\".format(data_wrapper_name, type(data_wrapper).__name__))\n",
    "        print()\n",
    "        \n",
    "def maybe_transform(data_bunch, pre_execution_parameters):\n",
    "    if pre_execution_parameters:\n",
    "        return data_bunch.transform(**pre_execution_parameters)\n",
    "    else:\n",
    "        return data_bunch\n",
    "        \n",
    "def print_dict(d):\n",
    "    print(json.dumps(d, indent=2))\n",
    "\n",
    "def get_installed_packages():\n",
    "    import pip\n",
    "    try:\n",
    "        from pip._internal.operations import freeze\n",
    "    except ImportError:  # pip < 10.0\n",
    "        from pip.operations import freeze\n",
    "\n",
    "    packages = []\n",
    "    for p in freeze.freeze():\n",
    "        packages.append(p)\n",
    "\n",
    "    return packages"
   ]
  },
  {
   "cell_type": "markdown",
   "metadata": {},
   "source": [
    "## Config"
   ]
  },
  {
   "cell_type": "markdown",
   "metadata": {},
   "source": [
    "#### Load config"
   ]
  },
  {
   "cell_type": "code",
   "execution_count": 6,
   "metadata": {},
   "outputs": [],
   "source": [
    "config = utils.load_referenced_json_config(config_filepath)"
   ]
  },
  {
   "cell_type": "code",
   "execution_count": 7,
   "metadata": {},
   "outputs": [
    {
     "name": "stdout",
     "output_type": "stream",
     "text": [
      "{\n",
      "  \"meta_info\": {\n",
      "    \"ml_engine\": \"h2o\",\n",
      "    \"model_purpose\": \"test_h2o\",\n",
      "    \"session_id\": \"{session_id}\",\n",
      "    \"model_object_name\": \"{model_purpose}__{session_id}\",\n",
      "    \"data_bunch_name\": \"array_789\",\n",
      "    \"notebook_filepath\": \"{notebook_filepath}\",\n",
      "    \"config_filepath\": \"{config_filepath}\"\n",
      "  },\n",
      "  \"init\": {\n",
      "    \"initiate_session\": {\n",
      "      \"name\": \"get_or_create_h2o\"\n",
      "    },\n",
      "    \"read_source_data\": {\n",
      "      \"name\": \"read_disk_pandas\"\n",
      "    },\n",
      "    \"model_definition\": {\n",
      "      \"name\": \"rf\",\n",
      "      \"params\": {}\n",
      "    },\n",
      "    \"fit\": {\n",
      "      \"name\": \"fit\"\n",
      "    },\n",
      "    \"save_model\": {\n",
      "      \"names\": [\n",
      "        \"save_h2o_model\",\n",
      "        \"save_json_details\",\n",
      "        \"save_pojo\",\n",
      "        \"save_mojo\",\n",
      "        \"save_pojo_jar\",\n",
      "        \"save_mojo_jar\"\n",
      "      ]\n",
      "    },\n",
      "    \"copy_from_local_to_remote\": {\n",
      "      \"name\": \"copy_from_disk_to_disk\"\n",
      "    },\n",
      "    \"evaluate\": {\n",
      "      \"name\": \"evaluate\"\n",
      "    },\n",
      "    \"evaluate_threshold_metrics\": {\n",
      "      \"name\": \"evaluate_threshold_metrics\"\n",
      "    },\n",
      "    \"predict\": {\n",
      "      \"name\": \"predict\"\n",
      "    },\n",
      "    \"custom_metrics\": {\n",
      "      \"names\": [\n",
      "        \"evaluate_numpy_auc\",\n",
      "        \"evaluate_numpy_micro_auc\"\n",
      "      ]\n",
      "    },\n",
      "    \"custom_label_metrics\": {\n",
      "      \"names\": [\n",
      "        \"evaluate_numpy_accuracy\",\n",
      "        \"evaluate_numpy_confusion_matrix\"\n",
      "      ]\n",
      "    },\n",
      "    \"store_prediction_artifact_locally\": {\n",
      "      \"name\": \"store_h2o_frame\"\n",
      "    },\n",
      "    \"store_artifact_locally\": {\n",
      "      \"name\": \"store_dict_json\"\n",
      "    }\n",
      "  },\n",
      "  \"exec\": {\n",
      "    \"initiate_session\": {\n",
      "      \"params\": {}\n",
      "    },\n",
      "    \"read_source_data\": {\n",
      "      \"params\": {\n",
      "        \"train_params\": {\n",
      "          \"path\": \"./example_data/{data_bunch_name}/train.csv\",\n",
      "          \"input_format\": \".csv\",\n",
      "          \"full_data_columns\": [\n",
      "            \"ID\",\n",
      "            \"ID2\",\n",
      "            \"field1_num\",\n",
      "            \"field2_num\",\n",
      "            \"field3_num\",\n",
      "            \"field4_factor\",\n",
      "            \"field5_factor\",\n",
      "            \"field6_target\"\n",
      "          ],\n",
      "          \"index_columns\": [\n",
      "            \"ID\",\n",
      "            \"ID2\"\n",
      "          ],\n",
      "          \"features_columns\": [\n",
      "            \"field4_factor\",\n",
      "            \"field5_factor\",\n",
      "            \"field1_num\",\n",
      "            \"field2_num\",\n",
      "            \"field3_num\"\n",
      "          ],\n",
      "          \"targets_columns\": [\n",
      "            \"field6_target\"\n",
      "          ]\n",
      "        },\n",
      "        \"valid_params\": {\n",
      "          \"path\": \"./example_data/{data_bunch_name}/valid.csv\",\n",
      "          \"input_format\": \".csv\",\n",
      "          \"full_data_columns\": [\n",
      "            \"ID\",\n",
      "            \"ID2\",\n",
      "            \"field1_num\",\n",
      "            \"field2_num\",\n",
      "            \"field3_num\",\n",
      "            \"field4_factor\",\n",
      "            \"field5_factor\",\n",
      "            \"field6_target\"\n",
      "          ],\n",
      "          \"index_columns\": [\n",
      "            \"ID\",\n",
      "            \"ID2\"\n",
      "          ],\n",
      "          \"features_columns\": [\n",
      "            \"field4_factor\",\n",
      "            \"field5_factor\",\n",
      "            \"field1_num\",\n",
      "            \"field2_num\",\n",
      "            \"field3_num\"\n",
      "          ],\n",
      "          \"targets_columns\": [\n",
      "            \"field6_target\"\n",
      "          ]\n",
      "        },\n",
      "        \"test_params\": {\n",
      "          \"path\": \"./example_data/{data_bunch_name}/test.csv\",\n",
      "          \"input_format\": \".csv\",\n",
      "          \"full_data_columns\": [\n",
      "            \"ID\",\n",
      "            \"ID2\",\n",
      "            \"field1_num\",\n",
      "            \"field2_num\",\n",
      "            \"field3_num\",\n",
      "            \"field4_factor\",\n",
      "            \"field5_factor\",\n",
      "            \"field6_target\"\n",
      "          ],\n",
      "          \"index_columns\": [\n",
      "            \"ID\",\n",
      "            \"ID2\"\n",
      "          ],\n",
      "          \"features_columns\": [\n",
      "            \"field4_factor\",\n",
      "            \"field5_factor\",\n",
      "            \"field1_num\",\n",
      "            \"field2_num\",\n",
      "            \"field3_num\"\n",
      "          ],\n",
      "          \"targets_columns\": [\n",
      "            \"field6_target\"\n",
      "          ]\n",
      "        }\n",
      "      }\n",
      "    },\n",
      "    \"fit\": {\n",
      "      \"params\": {\n",
      "        \"model_id\": \"{session_id}\"\n",
      "      },\n",
      "      \"pre_execution_transformation\": {\n",
      "        \"data_set_names\": [\n",
      "          \"train\",\n",
      "          \"valid\",\n",
      "          \"test\"\n",
      "        ],\n",
      "        \"transform_then_slice\": true,\n",
      "        \"params\": {\n",
      "          \"transform_to\": \"h2o\",\n",
      "          \"full_data_wrapper_params\": {\n",
      "            \"factor_columns_list\": [\n",
      "              \"field4_factor\",\n",
      "              \"field5_factor\",\n",
      "              \"field6_target\"\n",
      "            ]\n",
      "          },\n",
      "          \"data_wrapper_names\": [\n",
      "            \"index\",\n",
      "            \"features\",\n",
      "            \"targets\"\n",
      "          ]\n",
      "        }\n",
      "      }\n",
      "    },\n",
      "    \"evaluate\": {\n",
      "      \"data_set_names\": [\n",
      "        \"test\"\n",
      "      ],\n",
      "      \"params\": {\n",
      "        \"metric_names\": [\n",
      "          \"logloss\",\n",
      "          \"mse\",\n",
      "          \"mae\",\n",
      "          \"mean_residual_deviance\",\n",
      "          \"rmse\",\n",
      "          \"rmsle\",\n",
      "          \"residual_deviance\",\n",
      "          \"residual_degrees_of_freedom\",\n",
      "          \"null_deviance\",\n",
      "          \"null_degrees_of_freedom\",\n",
      "          \"aic\",\n",
      "          \"auc\",\n",
      "          \"gini\",\n",
      "          \"r2\"\n",
      "        ]\n",
      "      }\n",
      "    },\n",
      "    \"evaluate_threshold_metrics\": {\n",
      "      \"data_set_names\": [\n",
      "        \"test\"\n",
      "      ],\n",
      "      \"params\": {\n",
      "        \"threshold_metric_names\": [\n",
      "          \"f1\",\n",
      "          \"f2\",\n",
      "          \"f0point5\",\n",
      "          \"accuracy\",\n",
      "          \"precision\",\n",
      "          \"recall\",\n",
      "          \"specificity\",\n",
      "          \"absolute_mcc\",\n",
      "          \"min_per_class_accuracy\",\n",
      "          \"mean_per_class_accuracy\",\n",
      "          \"tns\",\n",
      "          \"fns\",\n",
      "          \"fps\",\n",
      "          \"tps\",\n",
      "          \"tnr\",\n",
      "          \"fnr\",\n",
      "          \"fpr\",\n",
      "          \"tpr\"\n",
      "        ]\n",
      "      }\n",
      "    },\n",
      "    \"predict\": {\n",
      "      \"data_set_names\": [\n",
      "        \"test\"\n",
      "      ],\n",
      "      \"params\": {\n",
      "        \"return_columns\": [\n",
      "          \"p1\"\n",
      "        ]\n",
      "      }\n",
      "    },\n",
      "    \"save_model\": {\n",
      "      \"save_h2o_model\": {\n",
      "        \"local_dir\": \"./example_results/local/{session_id}/models\",\n",
      "        \"remote_dir\": \"./example_results/remote/{session_id}/models\",\n",
      "        \"filename\": \"{model_object_name}__h2o\",\n",
      "        \"extension\": \"\",\n",
      "        \"overwrite_remote\": true\n",
      "      },\n",
      "      \"save_json_details\": {\n",
      "        \"local_dir\": \"./example_results/local/{session_id}/models\",\n",
      "        \"remote_dir\": \"./example_results/remote/{session_id}/models\",\n",
      "        \"filename\": \"{model_object_name}__json_details\",\n",
      "        \"extension\": \".json\",\n",
      "        \"overwrite_remote\": true\n",
      "      },\n",
      "      \"save_pojo\": {\n",
      "        \"local_dir\": \"./example_results/local/{session_id}/models\",\n",
      "        \"remote_dir\": \"./example_results/remote/{session_id}/models\",\n",
      "        \"filename\": \"{model_object_name}__pojo\",\n",
      "        \"extension\": \".java\",\n",
      "        \"overwrite_remote\": true\n",
      "      },\n",
      "      \"save_mojo\": {\n",
      "        \"local_dir\": \"./example_results/local/{session_id}/models\",\n",
      "        \"remote_dir\": \"./example_results/remote/{session_id}/models\",\n",
      "        \"filename\": \"{model_object_name}__mojo\",\n",
      "        \"extension\": \".zip\",\n",
      "        \"overwrite_remote\": true\n",
      "      },\n",
      "      \"save_pojo_jar\": {\n",
      "        \"local_dir\": \"./example_results/local/{session_id}/models\",\n",
      "        \"remote_dir\": \"./example_results/remote/{session_id}/models\",\n",
      "        \"filename\": \"{model_object_name}__pojo_jar\",\n",
      "        \"extension\": \".jar\",\n",
      "        \"overwrite_remote\": true\n",
      "      },\n",
      "      \"save_mojo_jar\": {\n",
      "        \"local_dir\": \"./example_results/local/{session_id}/models\",\n",
      "        \"remote_dir\": \"./example_results/remote/{session_id}/models\",\n",
      "        \"filename\": \"{model_object_name}__mojo_jar\",\n",
      "        \"extension\": \".jar\",\n",
      "        \"overwrite_remote\": true\n",
      "      }\n",
      "    },\n",
      "    \"evaluate_custom_metrics\": {\n",
      "      \"pre_execution_transformation\": {\n",
      "        \"data_set_names\": [\n",
      "          \"test\"\n",
      "        ],\n",
      "        \"params\": {\n",
      "          \"transform_to\": \"numpy\",\n",
      "          \"data_wrapper_params\": {\n",
      "            \"predictions\": {},\n",
      "            \"index\": {},\n",
      "            \"targets\": {}\n",
      "          }\n",
      "        }\n",
      "      },\n",
      "      \"data_set_names\": [\n",
      "        \"test\"\n",
      "      ],\n",
      "      \"params\": {}\n",
      "    },\n",
      "    \"evaluate_custom_label_metrics\": {\n",
      "      \"data_set_names\": [\n",
      "        \"test\"\n",
      "      ],\n",
      "      \"params\": {}\n",
      "    },\n",
      "    \"save_session\": {\n",
      "      \"params\": {\n",
      "        \"local_dir\": \"./example_results/local/{session_id}/session\",\n",
      "        \"remote_dir\": \"./example_results/remote/{session_id}/session\",\n",
      "        \"filename\": \"session\"\n",
      "      }\n",
      "    },\n",
      "    \"save_session_artifacts\": {\n",
      "      \"artifacts\": [\n",
      "        {\n",
      "          \"artifact_path\": \"{config_filepath}\",\n",
      "          \"local_dir\": \"./example_results/local/{session_id}/session\",\n",
      "          \"remote_dir\": \"./example_results/remote/{session_id}/session\"\n",
      "        },\n",
      "        {\n",
      "          \"artifact_path\": \"{notebook_filepath}\",\n",
      "          \"local_dir\": \"./example_results/local/{session_id}/session\",\n",
      "          \"remote_dir\": \"./example_results/remote/{session_id}/session\"\n",
      "        }\n",
      "      ]\n",
      "    },\n",
      "    \"save_formatted_config\": {\n",
      "      \"params\": {\n",
      "        \"local_dir\": \"./example_results/local/{session_id}/session\",\n",
      "        \"remote_dir\": \"./example_results/remote/{session_id}/session\",\n",
      "        \"filename\": \"config_formatted\"\n",
      "      }\n",
      "    },\n",
      "    \"prepare_predictions_for_storage\": {\n",
      "      \"data_set_names\": [\n",
      "        \"test\"\n",
      "      ],\n",
      "      \"params\": {\n",
      "        \"predictions\": {\n",
      "          \"left_data_wrapper_name\": \"index\",\n",
      "          \"right_data_wrapper_name\": \"predictions\",\n",
      "          \"new_data_wrapper_name\": \"predictions_for_storage\"\n",
      "        },\n",
      "        \"targets\": {\n",
      "          \"left_data_wrapper_name\": \"index\",\n",
      "          \"right_data_wrapper_name\": \"targets\",\n",
      "          \"new_data_wrapper_name\": \"targets_for_storage\"\n",
      "        }\n",
      "      }\n",
      "    },\n",
      "    \"save_predictions\": {\n",
      "      \"data_sets\": {\n",
      "        \"test\": {\n",
      "          \"data_wrapper_name\": \"predictions_for_storage\",\n",
      "          \"params\": {\n",
      "            \"local_dir\": \"./example_results/local/{session_id}/predictions/test\",\n",
      "            \"remote_dir\": \"./example_results/remote/{session_id}/predictions/test\",\n",
      "            \"filename\": \"{model_object_name}__test__predictions\"\n",
      "          }\n",
      "        }\n",
      "      }\n",
      "    },\n",
      "    \"save_targets\": {\n",
      "      \"data_sets\": {\n",
      "        \"test\": {\n",
      "          \"data_wrapper_name\": \"targets_for_storage\",\n",
      "          \"params\": {\n",
      "            \"local_dir\": \"./example_results/local/{session_id}/predictions/test\",\n",
      "            \"remote_dir\": \"./example_results/remote/{session_id}/predictions/test\",\n",
      "            \"filename\": \"{model_object_name}__test__targets\"\n",
      "          }\n",
      "        }\n",
      "      }\n",
      "    },\n",
      "    \"save_metrics\": {\n",
      "      \"data_sets\": {\n",
      "        \"test\": {\n",
      "          \"local_dir\": \"./example_results/local/{session_id}/metrics/test\",\n",
      "          \"remote_dir\": \"./example_results/remote/{session_id}/metrics/test\",\n",
      "          \"filename\": \"{model_object_name}__test__h2o_metrics\"\n",
      "        }\n",
      "      }\n",
      "    },\n",
      "    \"save_threshold_metrics\": {\n",
      "      \"data_sets\": {\n",
      "        \"test\": {\n",
      "          \"local_dir\": \"./example_results/local/{model_purpose}/{session_id}/data_bunches/{data_bunch_name}/test/metrics\",\n",
      "          \"remote_dir\": \"./example_results/remote/{model_purpose}/{session_id}/data_bunches/{data_bunch_name}/test/metrics\",\n",
      "          \"filename\": \"{model_object_name}__test__h2o_threshold_metrics\"\n",
      "        }\n",
      "      }\n",
      "    },\n",
      "    \"save_custom_metrics\": {\n",
      "      \"data_sets\": {\n",
      "        \"test\": {\n",
      "          \"local_dir\": \"./example_results/local/{session_id}/metrics/test\",\n",
      "          \"remote_dir\": \"./example_results/remote/{session_id}/metrics/test\",\n",
      "          \"filename\": \"{model_object_name}__test__custom_metrics\"\n",
      "        }\n",
      "      }\n",
      "    },\n",
      "    \"save_custom_label_metrics\": {\n",
      "      \"data_sets\": {\n",
      "        \"test\": {\n",
      "          \"local_dir\": \"./example_results/local/{session_id}/metrics/test\",\n",
      "          \"remote_dir\": \"./example_results/remote/{session_id}/metrics/test\",\n",
      "          \"filename\": \"{model_object_name}__test__custom_label_metrics\"\n",
      "        }\n",
      "      }\n",
      "    }\n",
      "  }\n"
     ]
    },
    {
     "name": "stdout",
     "output_type": "stream",
     "text": [
      "}\n"
     ]
    }
   ],
   "source": [
    "print_dict(config)"
   ]
  },
  {
   "cell_type": "markdown",
   "metadata": {},
   "source": [
    "#### Set model_id"
   ]
  },
  {
   "cell_type": "code",
   "execution_count": 8,
   "metadata": {},
   "outputs": [],
   "source": [
    "session_id = str(uuid.uuid4().hex)"
   ]
  },
  {
   "cell_type": "code",
   "execution_count": 9,
   "metadata": {},
   "outputs": [
    {
     "name": "stdout",
     "output_type": "stream",
     "text": [
      "818c0c6c1c404dddae908823f0d89946\n"
     ]
    }
   ],
   "source": [
    "print(session_id)"
   ]
  },
  {
   "cell_type": "markdown",
   "metadata": {},
   "source": [
    "#### Update config\n",
    "\n",
    "The function `utils.recursively_update_config(config, string_formatting_dict)` allows us to use string formatting to replace placeholder strings with acctual values.\n",
    "\n",
    "for example: \n",
    "\n",
    "```python\n",
    ">>> config = {\"some_value\": \"some_string_{some_placeholder}\"}\n",
    ">>> string_formatting_dict = {\"some_placeholder\": \"ABC\"}\n",
    ">>> utils.recursively_update_config(config, string_formatting_dict)\n",
    ">>> print(config)\n",
    "{\"some_value\": \"some_string_ABC}\"}\n",
    "```\n",
    "\n"
   ]
  },
  {
   "cell_type": "markdown",
   "metadata": {},
   "source": [
    "First update `config[\"meta_info\"]`"
   ]
  },
  {
   "cell_type": "code",
   "execution_count": 10,
   "metadata": {},
   "outputs": [],
   "source": [
    "utils.recursively_update_config(config[\"meta_info\"], {\n",
    "    \"session_id\": session_id,\n",
    "    \"model_purpose\": config[\"meta_info\"][\"model_purpose\"],\n",
    "    \"config_filepath\": config_filepath,\n",
    "    \"notebook_filepath\": notebook_filepath\n",
    "})"
   ]
  },
  {
   "cell_type": "markdown",
   "metadata": {},
   "source": [
    "Then use `config[\"meta_info\"]` to update the rest."
   ]
  },
  {
   "cell_type": "code",
   "execution_count": 11,
   "metadata": {},
   "outputs": [],
   "source": [
    "utils.recursively_update_config(config, config[\"meta_info\"])"
   ]
  },
  {
   "cell_type": "markdown",
   "metadata": {},
   "source": [
    "## Session\n",
    "\n",
    "Create a small dictionary with the session information. This will later be stored as a dictionary artifact with all the key run infomration"
   ]
  },
  {
   "cell_type": "code",
   "execution_count": 12,
   "metadata": {},
   "outputs": [],
   "source": [
    "session = {\n",
    "    \"time_stamp\": datetime.datetime.utcnow().isoformat()[:-3] + \"Z\",\n",
    "    \"run_by\": getpass.getuser(),\n",
    "    \"meta_info\": config[\"meta_info\"],\n",
    "    \"installed_packages\": get_installed_packages()\n",
    "}"
   ]
  },
  {
   "cell_type": "code",
   "execution_count": 13,
   "metadata": {},
   "outputs": [
    {
     "name": "stdout",
     "output_type": "stream",
     "text": [
      "Session info\n",
      "{\n",
      "  \"time_stamp\": \"2019-02-25T11:56:38.762Z\",\n",
      "  \"run_by\": \"karl.schriek\",\n",
      "  \"meta_info\": {\n",
      "    \"ml_engine\": \"h2o\",\n",
      "    \"model_purpose\": \"test_h2o\",\n",
      "    \"session_id\": \"818c0c6c1c404dddae908823f0d89946\",\n",
      "    \"model_object_name\": \"test_h2o__818c0c6c1c404dddae908823f0d89946\",\n",
      "    \"data_bunch_name\": \"array_789\",\n",
      "    \"notebook_filepath\": \"C:\\\\Users\\\\karl.schriek\\\\PycharmProjects\\\\mercury-ml-github\\\\examples\\\\h2o\\\\fit.ipynb\",\n",
      "    \"config_filepath\": \"C:\\\\Users\\\\karl.schriek\\\\PycharmProjects\\\\mercury-ml-github\\\\examples\\\\h2o\\\\config/fit_config_h2o.json\"\n",
      "  },\n",
      "  \"installed_packages\": [\n",
      "    \"absl-py==0.7.0\",\n",
      "    \"astor==0.7.1\",\n",
      "    \"atomicwrites==1.3.0\",\n",
      "    \"attrs==18.2.0\",\n",
      "    \"backcall==0.1.0\",\n",
      "    \"bleach==3.1.0\",\n",
      "    \"boto3==1.9.86\",\n",
      "    \"botocore==1.12.86\",\n",
      "    \"cachetools==3.1.0\",\n",
      "    \"certifi==2018.11.29\",\n",
      "    \"chardet==3.0.4\",\n",
      "    \"colorama==0.4.1\",\n",
      "    \"decorator==4.3.2\",\n",
      "    \"defusedxml==0.5.0\",\n",
      "    \"docutils==0.14\",\n",
      "    \"entrypoints==0.3\",\n",
      "    \"future==0.17.1\",\n",
      "    \"gast==0.2.2\",\n",
      "    \"google-api-core==1.7.0\",\n",
      "    \"google-auth==1.6.2\",\n",
      "    \"google-cloud-core==0.29.1\",\n",
      "    \"google-cloud-storage==1.13.2\",\n",
      "    \"google-resumable-media==0.3.2\",\n",
      "    \"googleapis-common-protos==1.5.6\",\n",
      "    \"grpcio==1.18.0\",\n",
      "    \"h2o==3.22.1.1\",\n",
      "    \"h2o-pysparkling-2.3==2.3.23\",\n",
      "    \"h5py==2.9.0\",\n",
      "    \"idna==2.8\",\n",
      "    \"ipykernel==5.1.0\",\n",
      "    \"ipython==7.2.0\",\n",
      "    \"ipython-genutils==0.2.0\",\n",
      "    \"ipywidgets==7.4.2\",\n",
      "    \"jedi==0.13.2\",\n",
      "    \"Jinja2==2.10\",\n",
      "    \"jmespath==0.9.3\",\n",
      "    \"jsonref==0.2\",\n",
      "    \"jsonschema==2.6.0\",\n",
      "    \"jupyter==1.0.0\",\n",
      "    \"jupyter-client==5.2.4\",\n",
      "    \"jupyter-console==6.0.0\",\n",
      "    \"jupyter-core==4.4.0\",\n",
      "    \"Keras==2.2.4\",\n",
      "    \"Keras-Applications==1.0.7\",\n",
      "    \"Keras-Preprocessing==1.0.8\",\n",
      "    \"Markdown==3.0.1\",\n",
      "    \"MarkupSafe==1.1.0\",\n",
      "    \"mercury-ml==0.1.0\",\n",
      "    \"mistune==0.8.4\",\n",
      "    \"more-itertools==5.0.0\",\n",
      "    \"nbconvert==5.4.1\",\n",
      "    \"nbformat==4.4.0\",\n",
      "    \"notebook==5.7.4\",\n",
      "    \"numpy==1.16.1\",\n",
      "    \"pandas==0.24.0\",\n",
      "    \"pandocfilters==1.4.2\",\n",
      "    \"parso==0.3.4\",\n",
      "    \"pickleshare==0.7.5\",\n",
      "    \"Pillow==5.4.1\",\n",
      "    \"pip==19.0.1\",\n",
      "    \"pkginfo==1.5.0.1\",\n",
      "    \"pluggy==0.8.1\",\n",
      "    \"prometheus-client==0.5.0\",\n",
      "    \"prompt-toolkit==2.0.8\",\n",
      "    \"protobuf==3.6.1\",\n",
      "    \"py==1.7.0\",\n",
      "    \"py4j==0.10.7\",\n",
      "    \"pyasn1==0.4.5\",\n",
      "    \"pyasn1-modules==0.2.4\",\n",
      "    \"Pygments==2.3.1\",\n",
      "    \"pyspark==2.3.2\",\n",
      "    \"pytest==4.2.0\",\n",
      "    \"python-dateutil==2.7.5\",\n",
      "    \"pytz==2018.9\",\n",
      "    \"pywinpty==0.5.5\",\n",
      "    \"PyYAML==3.13\",\n",
      "    \"pyzmq==17.1.2\",\n",
      "    \"qtconsole==4.4.3\",\n",
      "    \"readme-renderer==24.0\",\n",
      "    \"requests==2.21.0\",\n",
      "    \"requests-toolbelt==0.9.1\",\n",
      "    \"rsa==4.0\",\n",
      "    \"s3transfer==0.1.13\",\n",
      "    \"scikit-learn==0.20.2\",\n",
      "    \"scipy==1.2.0\",\n",
      "    \"Send2Trash==1.5.0\",\n",
      "    \"setuptools==40.7.1\",\n",
      "    \"six==1.12.0\",\n",
      "    \"sklearn==0.0\",\n",
      "    \"tabulate==0.8.3\",\n",
      "    \"tensorboard==1.12.2\",\n",
      "    \"tensorflow==1.12.0\",\n",
      "    \"tensorflow-serving-api==1.12.0\",\n",
      "    \"termcolor==1.1.0\",\n",
      "    \"terminado==0.8.1\",\n",
      "    \"testpath==0.4.2\",\n",
      "    \"tornado==5.1.1\",\n",
      "    \"tqdm==4.30.0\",\n",
      "    \"traitlets==4.3.2\",\n",
      "    \"twine==1.12.1\",\n",
      "    \"urllib3==1.24.1\",\n",
      "    \"wcwidth==0.1.7\",\n",
      "    \"webencodings==0.5.1\",\n",
      "    \"Werkzeug==0.14.1\",\n",
      "    \"wheel==0.32.3\",\n",
      "    \"widgetsnbextension==3.4.2\",\n",
      "    \"wincertstore==0.2\"\n",
      "  ]\n",
      "}\n"
     ]
    }
   ],
   "source": [
    "print(\"Session info\")\n",
    "print(json.dumps(session, indent=2))"
   ]
  },
  {
   "cell_type": "markdown",
   "metadata": {},
   "source": [
    "## Initialization\n",
    "\n",
    "These are the functions or classes we will be using in this workflow. We get / instatiate them all at the beginning using parameters under `config[\"initialization\"]`.\n",
    "\n",
    "Here we use mainly use `getattr` to fetch them via the `containers` module based on a string input in the config file. Providers could however also be fetched directly. The following three methods are all equivalent:\n",
    "\n",
    "```python\n",
    "# 1. (what we are using in this notebook)\n",
    "from mercury_ml.common import containers as common_containers\n",
    "source_reader=getattr(common_containers.SourceReaders, \"read_pandas_data_set\")\n",
    "\n",
    "# 2. \n",
    "from mercury_ml.common import containers as common_containers\n",
    "source_reader=common_containers.SourceReaders.read_pandas_data_set\n",
    "\n",
    "# 3.\n",
    "from mercury_ml.common.providers.source_reading import read_pandas_data_set\n",
    "source_reader=read_pandas_data_set\n",
    "```\n"
   ]
  },
  {
   "cell_type": "markdown",
   "metadata": {},
   "source": [
    "### Helpers\n",
    "\n",
    "These helper functions will create instantiate class providers (`create_and_log`) or fetch function providers (`get_and_log`) based on the parameters provided"
   ]
  },
  {
   "cell_type": "code",
   "execution_count": 14,
   "metadata": {},
   "outputs": [],
   "source": [
    "def create_and_log(container, class_name, params):\n",
    "    provider = getattr(container, class_name)(**params)\n",
    "    print(\"{}.{}\".format(container.__name__, class_name))\n",
    "    print(\"params: \", json.dumps(params, indent=2))\n",
    "    return provider\n",
    "\n",
    "def get_and_log(container, function_name):\n",
    "    provider = getattr(container, function_name)\n",
    "    print(\"{}.{}\".format(container.__name__, function_name))\n",
    "    return provider"
   ]
  },
  {
   "cell_type": "markdown",
   "metadata": {},
   "source": [
    "### Common\n",
    "\n",
    "These are providers that are universally relevant, regardless of which Machine Learning engine is used."
   ]
  },
  {
   "cell_type": "code",
   "execution_count": 15,
   "metadata": {},
   "outputs": [
    {
     "name": "stdout",
     "output_type": "stream",
     "text": [
      "LocalArtifactStorers.store_dict_json\n"
     ]
    }
   ],
   "source": [
    "# a function for storing dictionary artifacts to local disk\n",
    "store_artifact_locally = get_and_log(common_containers.LocalArtifactStorers,\n",
    "                                     config[\"init\"][\"store_artifact_locally\"][\"name\"])"
   ]
  },
  {
   "cell_type": "code",
   "execution_count": 16,
   "metadata": {},
   "outputs": [
    {
     "name": "stdout",
     "output_type": "stream",
     "text": [
      "LocalArtifactStorers.store_h2o_frame\n"
     ]
    }
   ],
   "source": [
    "# a function for storing data-frame-like artifacts to local disk\n",
    "store_prediction_artifact_locally = get_and_log(common_containers.LocalArtifactStorers,\n",
    "                                                config[\"init\"][\"store_prediction_artifact_locally\"][\"name\"])"
   ]
  },
  {
   "cell_type": "code",
   "execution_count": 17,
   "metadata": {},
   "outputs": [
    {
     "name": "stdout",
     "output_type": "stream",
     "text": [
      "ArtifactCopiers.copy_from_disk_to_disk\n"
     ]
    }
   ],
   "source": [
    "# a function for copy artifacts from local disk to a remote store\n",
    "copy_from_local_to_remote = get_and_log(common_containers.ArtifactCopiers, config[\"init\"][\"copy_from_local_to_remote\"][\"name\"])"
   ]
  },
  {
   "cell_type": "code",
   "execution_count": 18,
   "metadata": {},
   "outputs": [
    {
     "name": "stdout",
     "output_type": "stream",
     "text": [
      "SourceReaders.read_disk_pandas\n"
     ]
    }
   ],
   "source": [
    "# a function for reading source data. When called it will return an instance of type DataBunch \n",
    "read_source_data_set = get_and_log(common_containers.SourceReaders, config[\"init\"][\"read_source_data\"][\"name\"])"
   ]
  },
  {
   "cell_type": "code",
   "execution_count": 19,
   "metadata": {},
   "outputs": [
    {
     "name": "stdout",
     "output_type": "stream",
     "text": [
      "CustomMetrics.evaluate_numpy_auc\n",
      "CustomMetrics.evaluate_numpy_micro_auc\n"
     ]
    }
   ],
   "source": [
    "# a dictionary of functions that calculate custom metrics\n",
    "custom_metrics_dict = {\n",
    "    custom_metric_name: get_and_log(common_containers.CustomMetrics, custom_metric_name) for custom_metric_name in config[\"init\"][\"custom_metrics\"][\"names\"]\n",
    "}\n"
   ]
  },
  {
   "cell_type": "code",
   "execution_count": 20,
   "metadata": {},
   "outputs": [
    {
     "name": "stdout",
     "output_type": "stream",
     "text": [
      "CustomLabelMetrics.evaluate_numpy_accuracy\n",
      "CustomLabelMetrics.evaluate_numpy_confusion_matrix\n"
     ]
    }
   ],
   "source": [
    "# a dictionary of functions that calculate custom label metrics\n",
    "custom_label_metrics_dict = {\n",
    "    custom_label_metric_name: get_and_log(common_containers.CustomLabelMetrics, custom_label_metric_name) for custom_label_metric_name in config[\"init\"][\"custom_label_metrics\"][\"names\"]\n",
    "}\n"
   ]
  },
  {
   "cell_type": "markdown",
   "metadata": {},
   "source": [
    "### H2O"
   ]
  },
  {
   "cell_type": "code",
   "execution_count": 21,
   "metadata": {},
   "outputs": [
    {
     "name": "stdout",
     "output_type": "stream",
     "text": [
      "SessionInitiators.get_or_create_h2o\n"
     ]
    }
   ],
   "source": [
    "# a function to initiate the h2o (or h2o sparkling) session\n",
    "initiate_session = get_and_log(h2o_containers.SessionInitiators, config[\"init\"][\"initiate_session\"][\"name\"])"
   ]
  },
  {
   "cell_type": "code",
   "execution_count": 22,
   "metadata": {},
   "outputs": [
    {
     "name": "stdout",
     "output_type": "stream",
     "text": [
      "ModelDefinitions.rf\n"
     ]
    }
   ],
   "source": [
    "# fetch a built-in h2o model\n",
    "model = get_and_log(h2o_containers.ModelDefinitions, \n",
    "                    config[\"init\"][\"model_definition\"][\"name\"])(**config[\"init\"][\"model_definition\"][\"params\"])"
   ]
  },
  {
   "cell_type": "code",
   "execution_count": 23,
   "metadata": {},
   "outputs": [
    {
     "name": "stdout",
     "output_type": "stream",
     "text": [
      "ModelFitters.fit\n"
     ]
    }
   ],
   "source": [
    "# a function that fits an h2o model\n",
    "fit = get_and_log(h2o_containers.ModelFitters, config[\"init\"][\"fit\"][\"name\"])"
   ]
  },
  {
   "cell_type": "code",
   "execution_count": 24,
   "metadata": {},
   "outputs": [
    {
     "name": "stdout",
     "output_type": "stream",
     "text": [
      "ModelSavers.save_h2o_model\n",
      "ModelSavers.save_json_details\n",
      "ModelSavers.save_pojo\n",
      "ModelSavers.save_mojo\n",
      "ModelSavers.save_pojo_jar\n",
      "ModelSavers.save_mojo_jar\n"
     ]
    }
   ],
   "source": [
    "# a dictionary of functions that save h2o models in various formats\n",
    "save_model_dict = {\n",
    "    save_model_function_name: get_and_log(h2o_containers.ModelSavers, save_model_function_name) for save_model_function_name in config[\"init\"][\"save_model\"][\"names\"]\n",
    "}\n"
   ]
  },
  {
   "cell_type": "code",
   "execution_count": 25,
   "metadata": {},
   "outputs": [
    {
     "name": "stdout",
     "output_type": "stream",
     "text": [
      "ModelEvaluators.evaluate\n"
     ]
    }
   ],
   "source": [
    "# a function that generates metrics from an h2o model\n",
    "evaluate = get_and_log(h2o_containers.ModelEvaluators, config[\"init\"][\"evaluate\"][\"name\"])"
   ]
  },
  {
   "cell_type": "code",
   "execution_count": 26,
   "metadata": {},
   "outputs": [
    {
     "name": "stdout",
     "output_type": "stream",
     "text": [
      "ModelEvaluators.evaluate_threshold_metrics\n"
     ]
    }
   ],
   "source": [
    "# a function that generates metrics from an h2o model\n",
    "evaluate_threshold_metrics = get_and_log(h2o_containers.ModelEvaluators, config[\"init\"][\"evaluate_threshold_metrics\"][\"name\"])"
   ]
  },
  {
   "cell_type": "code",
   "execution_count": 27,
   "metadata": {},
   "outputs": [
    {
     "name": "stdout",
     "output_type": "stream",
     "text": [
      "PredictionFunctions.predict\n"
     ]
    }
   ],
   "source": [
    "# a function that produces predictions using an h2o model\n",
    "predict = get_and_log(h2o_containers.PredictionFunctions, config[\"init\"][\"predict\"][\"name\"])"
   ]
  },
  {
   "cell_type": "markdown",
   "metadata": {},
   "source": [
    "## Execution\n",
    "\n",
    "Here we use the providers defined above to execute various tasks"
   ]
  },
  {
   "cell_type": "markdown",
   "metadata": {},
   "source": [
    "### Save (formatted) config"
   ]
  },
  {
   "cell_type": "code",
   "execution_count": 28,
   "metadata": {},
   "outputs": [],
   "source": [
    "tasks.store_artifacts(store_artifact_locally, copy_from_local_to_remote, config,\n",
    "                      **config[\"exec\"][\"save_formatted_config\"][\"params\"])"
   ]
  },
  {
   "cell_type": "code",
   "execution_count": 29,
   "metadata": {},
   "outputs": [
    {
     "name": "stdout",
     "output_type": "stream",
     "text": [
      "Config stored with following parameters\n",
      "{\n",
      "  \"local_dir\": \"./example_results/local/818c0c6c1c404dddae908823f0d89946/session\",\n",
      "  \"remote_dir\": \"./example_results/remote/818c0c6c1c404dddae908823f0d89946/session\",\n",
      "  \"filename\": \"config_formatted\"\n",
      "}\n"
     ]
    }
   ],
   "source": [
    "print(\"Config stored with following parameters\")\n",
    "print_dict(config[\"exec\"][\"save_formatted_config\"][\"params\"])"
   ]
  },
  {
   "cell_type": "markdown",
   "metadata": {},
   "source": [
    "### Save Session"
   ]
  },
  {
   "cell_type": "markdown",
   "metadata": {},
   "source": [
    "##### Save session info"
   ]
  },
  {
   "cell_type": "code",
   "execution_count": 30,
   "metadata": {},
   "outputs": [],
   "source": [
    "tasks.store_artifacts(store_artifact_locally, copy_from_local_to_remote, session,\n",
    "                                 **config[\"exec\"][\"save_session\"][\"params\"])"
   ]
  },
  {
   "cell_type": "code",
   "execution_count": 31,
   "metadata": {},
   "outputs": [
    {
     "name": "stdout",
     "output_type": "stream",
     "text": [
      "Session dictionary stored with following parameters\n",
      "{\n",
      "  \"local_dir\": \"./example_results/local/818c0c6c1c404dddae908823f0d89946/session\",\n",
      "  \"remote_dir\": \"./example_results/remote/818c0c6c1c404dddae908823f0d89946/session\",\n",
      "  \"filename\": \"session\"\n",
      "}\n"
     ]
    }
   ],
   "source": [
    "print(\"Session dictionary stored with following parameters\")\n",
    "print_dict(config[\"exec\"][\"save_session\"][\"params\"])"
   ]
  },
  {
   "cell_type": "markdown",
   "metadata": {},
   "source": [
    "##### Save session artifacts"
   ]
  },
  {
   "cell_type": "code",
   "execution_count": 32,
   "metadata": {},
   "outputs": [],
   "source": [
    "for artifact_dict in config[\"exec\"][\"save_session_artifacts\"][\"artifacts\"]:\n",
    "    \n",
    "    artifact_dir=os.path.dirname(artifact_dict[\"artifact_path\"]) \n",
    "    artifact_filename=os.path.basename(artifact_dict[\"artifact_path\"])\n",
    "    \n",
    "    # save to local artifact store\n",
    "    common_containers.ArtifactCopiers.copy_from_disk_to_disk(\n",
    "        source_dir=artifact_dir,\n",
    "        target_dir=artifact_dict[\"local_dir\"],\n",
    "        filename=artifact_filename,\n",
    "        overwrite=False,\n",
    "        delete_source=False)\n",
    "\n",
    "    # copy to remote artifact store\n",
    "    copy_from_local_to_remote(source_dir=artifact_dict[\"local_dir\"],\n",
    "                              target_dir=artifact_dict[\"remote_dir\"],\n",
    "                              filename=artifact_filename,\n",
    "                              overwrite=False,\n",
    "                              delete_source=False)\n",
    "    "
   ]
  },
  {
   "cell_type": "code",
   "execution_count": 34,
   "metadata": {},
   "outputs": [
    {
     "name": "stdout",
     "output_type": "stream",
     "text": [
      "Session artifacts stored with following parameters\n",
      "{\n",
      "  \"artifacts\": [\n",
      "    {\n",
      "      \"artifact_path\": \"C:\\\\Users\\\\karl.schriek\\\\PycharmProjects\\\\mercury-ml-github\\\\examples\\\\h2o\\\\config/fit_config_h2o.json\",\n",
      "      \"local_dir\": \"./example_results/local/818c0c6c1c404dddae908823f0d89946/session\",\n",
      "      \"remote_dir\": \"./example_results/remote/818c0c6c1c404dddae908823f0d89946/session\"\n",
      "    },\n",
      "    {\n",
      "      \"artifact_path\": \"C:\\\\Users\\\\karl.schriek\\\\PycharmProjects\\\\mercury-ml-github\\\\examples\\\\h2o\\\\fit.ipynb\",\n",
      "      \"local_dir\": \"./example_results/local/818c0c6c1c404dddae908823f0d89946/session\",\n",
      "      \"remote_dir\": \"./example_results/remote/818c0c6c1c404dddae908823f0d89946/session\"\n",
      "    }\n",
      "  ]\n",
      "}\n"
     ]
    }
   ],
   "source": [
    "print(\"Session artifacts stored with following parameters\")\n",
    "print_dict(config[\"exec\"][\"save_session_artifacts\"])"
   ]
  },
  {
   "cell_type": "markdown",
   "metadata": {},
   "source": [
    "### Start H2O"
   ]
  },
  {
   "cell_type": "code",
   "execution_count": 35,
   "metadata": {},
   "outputs": [
    {
     "name": "stdout",
     "output_type": "stream",
     "text": [
      "Checking whether there is an H2O instance running at http://localhost:54321. connected.\n"
     ]
    },
    {
     "data": {
      "text/html": [
       "<div style=\"overflow:auto\"><table style=\"width:50%\"><tr><td>H2O cluster uptime:</td>\n",
       "<td>37 secs</td></tr>\n",
       "<tr><td>H2O cluster timezone:</td>\n",
       "<td>Europe/Berlin</td></tr>\n",
       "<tr><td>H2O data parsing timezone:</td>\n",
       "<td>UTC</td></tr>\n",
       "<tr><td>H2O cluster version:</td>\n",
       "<td>3.22.1.1</td></tr>\n",
       "<tr><td>H2O cluster version age:</td>\n",
       "<td>1 month and 27 days </td></tr>\n",
       "<tr><td>H2O cluster name:</td>\n",
       "<td>karl.schriek</td></tr>\n",
       "<tr><td>H2O cluster total nodes:</td>\n",
       "<td>1</td></tr>\n",
       "<tr><td>H2O cluster free memory:</td>\n",
       "<td>3.531 Gb</td></tr>\n",
       "<tr><td>H2O cluster total cores:</td>\n",
       "<td>4</td></tr>\n",
       "<tr><td>H2O cluster allowed cores:</td>\n",
       "<td>4</td></tr>\n",
       "<tr><td>H2O cluster status:</td>\n",
       "<td>accepting new members, healthy</td></tr>\n",
       "<tr><td>H2O connection url:</td>\n",
       "<td>http://localhost:54321</td></tr>\n",
       "<tr><td>H2O connection proxy:</td>\n",
       "<td>None</td></tr>\n",
       "<tr><td>H2O internal security:</td>\n",
       "<td>False</td></tr>\n",
       "<tr><td>H2O API Extensions:</td>\n",
       "<td>Algos, AutoML, Core V3, Core V4</td></tr>\n",
       "<tr><td>Python version:</td>\n",
       "<td>3.6.2 final</td></tr></table></div>"
      ],
      "text/plain": [
       "--------------------------  -------------------------------\n",
       "H2O cluster uptime:         37 secs\n",
       "H2O cluster timezone:       Europe/Berlin\n",
       "H2O data parsing timezone:  UTC\n",
       "H2O cluster version:        3.22.1.1\n",
       "H2O cluster version age:    1 month and 27 days\n",
       "H2O cluster name:           karl.schriek\n",
       "H2O cluster total nodes:    1\n",
       "H2O cluster free memory:    3.531 Gb\n",
       "H2O cluster total cores:    4\n",
       "H2O cluster allowed cores:  4\n",
       "H2O cluster status:         accepting new members, healthy\n",
       "H2O connection url:         http://localhost:54321\n",
       "H2O connection proxy:\n",
       "H2O internal security:      False\n",
       "H2O API Extensions:         Algos, AutoML, Core V3, Core V4\n",
       "Python version:             3.6.2 final\n",
       "--------------------------  -------------------------------"
      ]
     },
     "metadata": {},
     "output_type": "display_data"
    },
    {
     "data": {
      "text/plain": [
       "<module 'h2o' from 'c:\\\\users\\\\karl.schriek\\\\appdata\\\\local\\\\conda\\\\conda\\\\envs\\\\mercury_ml\\\\lib\\\\site-packages\\\\h2o\\\\__init__.py'>"
      ]
     },
     "execution_count": 35,
     "metadata": {},
     "output_type": "execute_result"
    }
   ],
   "source": [
    "initiate_session(**config[\"exec\"][\"initiate_session\"][\"params\"])"
   ]
  },
  {
   "cell_type": "markdown",
   "metadata": {},
   "source": [
    "### Get source data"
   ]
  },
  {
   "cell_type": "code",
   "execution_count": 36,
   "metadata": {},
   "outputs": [
    {
     "name": "stdout",
     "output_type": "stream",
     "text": [
      "Source data read using following parameters: \n",
      "\n",
      "{\n",
      "  \"train_params\": {\n",
      "    \"path\": \"./example_data/array_789/train.csv\",\n",
      "    \"input_format\": \".csv\",\n",
      "    \"full_data_columns\": [\n",
      "      \"ID\",\n",
      "      \"ID2\",\n",
      "      \"field1_num\",\n",
      "      \"field2_num\",\n",
      "      \"field3_num\",\n",
      "      \"field4_factor\",\n",
      "      \"field5_factor\",\n",
      "      \"field6_target\"\n",
      "    ],\n",
      "    \"index_columns\": [\n",
      "      \"ID\",\n",
      "      \"ID2\"\n",
      "    ],\n",
      "    \"features_columns\": [\n",
      "      \"field4_factor\",\n",
      "      \"field5_factor\",\n",
      "      \"field1_num\",\n",
      "      \"field2_num\",\n",
      "      \"field3_num\"\n",
      "    ],\n",
      "    \"targets_columns\": [\n",
      "      \"field6_target\"\n",
      "    ]\n",
      "  },\n",
      "  \"valid_params\": {\n",
      "    \"path\": \"./example_data/array_789/valid.csv\",\n",
      "    \"input_format\": \".csv\",\n",
      "    \"full_data_columns\": [\n",
      "      \"ID\",\n",
      "      \"ID2\",\n",
      "      \"field1_num\",\n",
      "      \"field2_num\",\n",
      "      \"field3_num\",\n",
      "      \"field4_factor\",\n",
      "      \"field5_factor\",\n",
      "      \"field6_target\"\n",
      "    ],\n",
      "    \"index_columns\": [\n",
      "      \"ID\",\n",
      "      \"ID2\"\n",
      "    ],\n",
      "    \"features_columns\": [\n",
      "      \"field4_factor\",\n",
      "      \"field5_factor\",\n",
      "      \"field1_num\",\n",
      "      \"field2_num\",\n",
      "      \"field3_num\"\n",
      "    ],\n",
      "    \"targets_columns\": [\n",
      "      \"field6_target\"\n",
      "    ]\n",
      "  },\n",
      "  \"test_params\": {\n",
      "    \"path\": \"./example_data/array_789/test.csv\",\n",
      "    \"input_format\": \".csv\",\n",
      "    \"full_data_columns\": [\n",
      "      \"ID\",\n",
      "      \"ID2\",\n",
      "      \"field1_num\",\n",
      "      \"field2_num\",\n",
      "      \"field3_num\",\n",
      "      \"field4_factor\",\n",
      "      \"field5_factor\",\n",
      "      \"field6_target\"\n",
      "    ],\n",
      "    \"index_columns\": [\n",
      "      \"ID\",\n",
      "      \"ID2\"\n",
      "    ],\n",
      "    \"features_columns\": [\n",
      "      \"field4_factor\",\n",
      "      \"field5_factor\",\n",
      "      \"field1_num\",\n",
      "      \"field2_num\",\n",
      "      \"field3_num\"\n",
      "    ],\n",
      "    \"targets_columns\": [\n",
      "      \"field6_target\"\n",
      "    ]\n",
      "  }\n",
      "}\n"
     ]
    }
   ],
   "source": [
    "data_bunch_source = tasks.read_train_valid_test_data_bunch(read_source_data_set,**config[\"exec\"][\"read_source_data\"][\"params\"] )\n",
    "print(\"Source data read using following parameters: \\n\")\n",
    "print_dict(config[\"exec\"][\"read_source_data\"][\"params\"])"
   ]
  },
  {
   "cell_type": "code",
   "execution_count": 37,
   "metadata": {},
   "outputs": [
    {
     "name": "stdout",
     "output_type": "stream",
     "text": [
      "Read data_bunch consists of: \n",
      "\n",
      "train <DataSet>\n",
      "  full_data <PandasDataWrapper>\n",
      "  index <PandasDataWrapper>\n",
      "  features <PandasDataWrapper>\n",
      "  targets <PandasDataWrapper>\n",
      "\n",
      "valid <DataSet>\n",
      "  full_data <PandasDataWrapper>\n",
      "  index <PandasDataWrapper>\n",
      "  features <PandasDataWrapper>\n",
      "  targets <PandasDataWrapper>\n",
      "\n",
      "test <DataSet>\n",
      "  full_data <PandasDataWrapper>\n",
      "  index <PandasDataWrapper>\n",
      "  features <PandasDataWrapper>\n",
      "  targets <PandasDataWrapper>\n",
      "\n"
     ]
    }
   ],
   "source": [
    "print(\"Read data_bunch consists of: \\n\")\n",
    "print_data_bunch(data_bunch_source)"
   ]
  },
  {
   "cell_type": "markdown",
   "metadata": {},
   "source": [
    "### Fit model"
   ]
  },
  {
   "cell_type": "markdown",
   "metadata": {},
   "source": [
    "##### Transform data"
   ]
  },
  {
   "cell_type": "code",
   "execution_count": 38,
   "metadata": {},
   "outputs": [
    {
     "name": "stdout",
     "output_type": "stream",
     "text": [
      "Parse progress: |█████████████████████████████████████████████████████████| 100%\n",
      "Parse progress: |█████████████████████████████████████████████████████████| 100%\n",
      "Parse progress: |█████████████████████████████████████████████████████████| 100%\n",
      "Data transformed with following parameters: \n",
      "\n",
      "{\n",
      "  \"data_set_names\": [\n",
      "    \"train\",\n",
      "    \"valid\",\n",
      "    \"test\"\n",
      "  ],\n",
      "  \"transform_then_slice\": true,\n",
      "  \"params\": {\n",
      "    \"transform_to\": \"h2o\",\n",
      "    \"full_data_wrapper_params\": {\n",
      "      \"factor_columns_list\": [\n",
      "        \"field4_factor\",\n",
      "        \"field5_factor\",\n",
      "        \"field6_target\"\n",
      "      ]\n",
      "    },\n",
      "    \"data_wrapper_names\": [\n",
      "      \"index\",\n",
      "      \"features\",\n",
      "      \"targets\"\n",
      "    ]\n",
      "  }\n",
      "}\n"
     ]
    }
   ],
   "source": [
    "data_bunch_fit = maybe_transform(data_bunch_source, config[\"exec\"][\"fit\"].get(\"pre_execution_transformation\"))\n",
    "\n",
    "print(\"Data transformed with following parameters: \\n\")\n",
    "print_dict(config[\"exec\"][\"fit\"].get(\"pre_execution_transformation\"))"
   ]
  },
  {
   "cell_type": "code",
   "execution_count": 39,
   "metadata": {},
   "outputs": [
    {
     "name": "stdout",
     "output_type": "stream",
     "text": [
      "Transformed data_bunch consists of: \n",
      "\n",
      "train <DataSet>\n",
      "  full_data <H2ODataWrapper>\n",
      "  index <H2ODataWrapper>\n",
      "  features <H2ODataWrapper>\n",
      "  targets <H2ODataWrapper>\n",
      "\n",
      "valid <DataSet>\n",
      "  full_data <H2ODataWrapper>\n",
      "  index <H2ODataWrapper>\n",
      "  features <H2ODataWrapper>\n",
      "  targets <H2ODataWrapper>\n",
      "\n",
      "test <DataSet>\n",
      "  full_data <H2ODataWrapper>\n",
      "  index <H2ODataWrapper>\n",
      "  features <H2ODataWrapper>\n",
      "  targets <H2ODataWrapper>\n",
      "\n"
     ]
    }
   ],
   "source": [
    "print(\"Transformed data_bunch consists of: \\n\")\n",
    "print_data_bunch(data_bunch_fit)"
   ]
  },
  {
   "cell_type": "markdown",
   "metadata": {},
   "source": [
    "##### Perform fitting"
   ]
  },
  {
   "cell_type": "code",
   "execution_count": 40,
   "metadata": {},
   "outputs": [
    {
     "name": "stdout",
     "output_type": "stream",
     "text": [
      "drf Model Build progress: |███████████████████████████████████████████████| 100%\n"
     ]
    }
   ],
   "source": [
    "model = fit(model = model,\n",
    "            data_bunch = data_bunch_fit,\n",
    "            **config[\"exec\"][\"fit\"][\"params\"])"
   ]
  },
  {
   "cell_type": "markdown",
   "metadata": {},
   "source": [
    "### Save model"
   ]
  },
  {
   "cell_type": "code",
   "execution_count": 41,
   "metadata": {},
   "outputs": [
    {
     "name": "stdout",
     "output_type": "stream",
     "text": [
      "C:\\Users\\karl.schriek\\PycharmProjects\\mercury-ml-github\\examples\\h2o\\example_results\\local\\818c0c6c1c404dddae908823f0d89946\\models\n"
     ]
    }
   ],
   "source": [
    "for model_format, save_model in save_model_dict.items():\n",
    "    \n",
    "    tasks.store_model(save_model=save_model,\n",
    "                      model=model,\n",
    "                      copy_from_local_to_remote = copy_from_local_to_remote,\n",
    "                      **config[\"exec\"][\"save_model\"][model_format]\n",
    "                      )"
   ]
  },
  {
   "cell_type": "code",
   "execution_count": 42,
   "metadata": {},
   "outputs": [
    {
     "name": "stdout",
     "output_type": "stream",
     "text": [
      "Model saved with following paramters: \n",
      "\n",
      "{\n",
      "  \"save_h2o_model\": {\n",
      "    \"local_dir\": \"./example_results/local/818c0c6c1c404dddae908823f0d89946/models\",\n",
      "    \"remote_dir\": \"./example_results/remote/818c0c6c1c404dddae908823f0d89946/models\",\n",
      "    \"filename\": \"test_h2o__818c0c6c1c404dddae908823f0d89946__h2o\",\n",
      "    \"extension\": \"\",\n",
      "    \"overwrite_remote\": true\n",
      "  },\n",
      "  \"save_json_details\": {\n",
      "    \"local_dir\": \"./example_results/local/818c0c6c1c404dddae908823f0d89946/models\",\n",
      "    \"remote_dir\": \"./example_results/remote/818c0c6c1c404dddae908823f0d89946/models\",\n",
      "    \"filename\": \"test_h2o__818c0c6c1c404dddae908823f0d89946__json_details\",\n",
      "    \"extension\": \".json\",\n",
      "    \"overwrite_remote\": true\n",
      "  },\n",
      "  \"save_pojo\": {\n",
      "    \"local_dir\": \"./example_results/local/818c0c6c1c404dddae908823f0d89946/models\",\n",
      "    \"remote_dir\": \"./example_results/remote/818c0c6c1c404dddae908823f0d89946/models\",\n",
      "    \"filename\": \"test_h2o__818c0c6c1c404dddae908823f0d89946__pojo\",\n",
      "    \"extension\": \".java\",\n",
      "    \"overwrite_remote\": true\n",
      "  },\n",
      "  \"save_mojo\": {\n",
      "    \"local_dir\": \"./example_results/local/818c0c6c1c404dddae908823f0d89946/models\",\n",
      "    \"remote_dir\": \"./example_results/remote/818c0c6c1c404dddae908823f0d89946/models\",\n",
      "    \"filename\": \"test_h2o__818c0c6c1c404dddae908823f0d89946__mojo\",\n",
      "    \"extension\": \".zip\",\n",
      "    \"overwrite_remote\": true\n",
      "  },\n",
      "  \"save_pojo_jar\": {\n",
      "    \"local_dir\": \"./example_results/local/818c0c6c1c404dddae908823f0d89946/models\",\n",
      "    \"remote_dir\": \"./example_results/remote/818c0c6c1c404dddae908823f0d89946/models\",\n",
      "    \"filename\": \"test_h2o__818c0c6c1c404dddae908823f0d89946__pojo_jar\",\n",
      "    \"extension\": \".jar\",\n",
      "    \"overwrite_remote\": true\n",
      "  },\n",
      "  \"save_mojo_jar\": {\n",
      "    \"local_dir\": \"./example_results/local/818c0c6c1c404dddae908823f0d89946/models\",\n",
      "    \"remote_dir\": \"./example_results/remote/818c0c6c1c404dddae908823f0d89946/models\",\n",
      "    \"filename\": \"test_h2o__818c0c6c1c404dddae908823f0d89946__mojo_jar\",\n",
      "    \"extension\": \".jar\",\n",
      "    \"overwrite_remote\": true\n",
      "  }\n",
      "}\n"
     ]
    }
   ],
   "source": [
    "print(\"Model saved with following paramters: \\n\")\n",
    "print_dict(config[\"exec\"][\"save_model\"])"
   ]
  },
  {
   "cell_type": "markdown",
   "metadata": {},
   "source": [
    "### Evaluate metrics"
   ]
  },
  {
   "cell_type": "markdown",
   "metadata": {},
   "source": [
    "##### Transform data"
   ]
  },
  {
   "cell_type": "code",
   "execution_count": 43,
   "metadata": {},
   "outputs": [
    {
     "name": "stdout",
     "output_type": "stream",
     "text": [
      "Data transformed with following parameters: \n",
      "\n",
      "null\n"
     ]
    }
   ],
   "source": [
    "data_bunch_metrics = maybe_transform(data_bunch_fit, config[\"exec\"][\"evaluate\"].get(\"pre_execution_transformation\"))\n",
    "\n",
    "print(\"Data transformed with following parameters: \\n\")\n",
    "print_dict(config[\"exec\"][\"evaluate\"].get(\"pre_execution_transformation\"))"
   ]
  },
  {
   "cell_type": "code",
   "execution_count": 44,
   "metadata": {},
   "outputs": [
    {
     "name": "stdout",
     "output_type": "stream",
     "text": [
      "Transformed data_bunch consists of: \n",
      "\n",
      "train <DataSet>\n",
      "  full_data <H2ODataWrapper>\n",
      "  index <H2ODataWrapper>\n",
      "  features <H2ODataWrapper>\n",
      "  targets <H2ODataWrapper>\n",
      "\n",
      "valid <DataSet>\n",
      "  full_data <H2ODataWrapper>\n",
      "  index <H2ODataWrapper>\n",
      "  features <H2ODataWrapper>\n",
      "  targets <H2ODataWrapper>\n",
      "\n",
      "test <DataSet>\n",
      "  full_data <H2ODataWrapper>\n",
      "  index <H2ODataWrapper>\n",
      "  features <H2ODataWrapper>\n",
      "  targets <H2ODataWrapper>\n",
      "\n"
     ]
    }
   ],
   "source": [
    "print(\"Transformed data_bunch consists of: \\n\")\n",
    "print_data_bunch(data_bunch_metrics)"
   ]
  },
  {
   "cell_type": "markdown",
   "metadata": {},
   "source": [
    "##### Calculate metrics"
   ]
  },
  {
   "cell_type": "code",
   "execution_count": 45,
   "metadata": {},
   "outputs": [],
   "source": [
    "metrics = {}\n",
    "for data_set_name in config[\"exec\"][\"evaluate\"][\"data_set_names\"]:\n",
    "    data_set = getattr(data_bunch_metrics, data_set_name)\n",
    "    metrics[data_set_name] = evaluate(model, data_set, data_set_name, **config[\"exec\"][\"evaluate\"][\"params\"])"
   ]
  },
  {
   "cell_type": "code",
   "execution_count": 46,
   "metadata": {},
   "outputs": [
    {
     "name": "stdout",
     "output_type": "stream",
     "text": [
      "Resulting metrics: \n",
      "\n",
      "{\n",
      "  \"test\": {\n",
      "    \"logloss\": 0.026988748739291035,\n",
      "    \"mse\": 0.0013250000031590453,\n",
      "    \"rmse\": 0.03640054948979542,\n",
      "    \"auc\": 1.0,\n",
      "    \"gini\": 1.0,\n",
      "    \"r2\": 0.9936904761754332\n",
      "  }\n",
      "}\n"
     ]
    }
   ],
   "source": [
    "print(\"Resulting metrics: \\n\")\n",
    "print_dict(metrics)"
   ]
  },
  {
   "cell_type": "markdown",
   "metadata": {},
   "source": [
    "##### Calculate metrics"
   ]
  },
  {
   "cell_type": "code",
   "execution_count": 47,
   "metadata": {},
   "outputs": [],
   "source": [
    "threshold_metrics = {}\n",
    "for data_set_name in config[\"exec\"][\"evaluate\"][\"data_set_names\"]:\n",
    "    data_set = getattr(data_bunch_metrics, data_set_name)\n",
    "    threshold_metrics[data_set_name] = evaluate_threshold_metrics(model, data_set, data_set_name,\n",
    "                                                                  **config[\"exec\"][\"evaluate_threshold_metrics\"][\"params\"])"
   ]
  },
  {
   "cell_type": "code",
   "execution_count": 48,
   "metadata": {},
   "outputs": [
    {
     "name": "stdout",
     "output_type": "stream",
     "text": [
      "Resulting metrics: \n",
      "\n",
      "{\n",
      "  \"test\": {\n",
      "    \"threshold\": {\n",
      "      \"0\": 0.9519999998807908,\n",
      "      \"1\": 0.9344999998807907,\n",
      "      \"2\": 0.0625,\n",
      "      \"3\": 0.01449999988079076,\n",
      "      \"4\": 0.0024999999999999467\n",
      "    },\n",
      "    \"f1\": {\n",
      "      \"0\": 0.8,\n",
      "      \"1\": 1.0,\n",
      "      \"2\": 0.8571428571428571,\n",
      "      \"3\": 0.6666666666666666,\n",
      "      \"4\": 0.4615384615384615\n",
      "    },\n",
      "    \"f2\": {\n",
      "      \"0\": 0.7142857142857142,\n",
      "      \"1\": 1.0,\n",
      "      \"2\": 0.9375,\n",
      "      \"3\": 0.8333333333333334,\n",
      "      \"4\": 0.6818181818181818\n",
      "    },\n",
      "    \"f0point5\": {\n",
      "      \"0\": 0.9090909090909091,\n",
      "      \"1\": 1.0,\n",
      "      \"2\": 0.7894736842105263,\n",
      "      \"3\": 0.5555555555555556,\n",
      "      \"4\": 0.3488372093023256\n",
      "    },\n",
      "    \"accuracy\": {\n",
      "      \"0\": 0.9,\n",
      "      \"1\": 1.0,\n",
      "      \"2\": 0.9,\n",
      "      \"3\": 0.7,\n",
      "      \"4\": 0.3\n",
      "    },\n",
      "    \"precision\": {\n",
      "      \"0\": 1.0,\n",
      "      \"1\": 1.0,\n",
      "      \"2\": 0.75,\n",
      "      \"3\": 0.5,\n",
      "      \"4\": 0.3\n",
      "    },\n",
      "    \"recall\": {\n",
      "      \"0\": 0.6666666666666666,\n",
      "      \"1\": 1.0,\n",
      "      \"2\": 1.0,\n",
      "      \"3\": 1.0,\n",
      "      \"4\": 1.0\n",
      "    },\n",
      "    \"specificity\": {\n",
      "      \"0\": 1.0,\n",
      "      \"1\": 1.0,\n",
      "      \"2\": 0.8571428571428571,\n",
      "      \"3\": 0.5714285714285714,\n",
      "      \"4\": 0.0\n",
      "    },\n",
      "    \"absolute_mcc\": {\n",
      "      \"0\": 0.7637626158259734,\n",
      "      \"1\": 1.0,\n",
      "      \"2\": 0.8017837257372732,\n",
      "      \"3\": 0.5345224838248488,\n",
      "      \"4\": 0.0\n",
      "    },\n",
      "    \"min_per_class_accuracy\": {\n",
      "      \"0\": 0.6666666666666666,\n",
      "      \"1\": 1.0,\n",
      "      \"2\": 0.8571428571428571,\n",
      "      \"3\": 0.5714285714285714,\n",
      "      \"4\": 0.0\n",
      "    },\n",
      "    \"mean_per_class_accuracy\": {\n",
      "      \"0\": 0.8333333333333333,\n",
      "      \"1\": 1.0,\n",
      "      \"2\": 0.9285714285714286,\n",
      "      \"3\": 0.7857142857142857,\n",
      "      \"4\": 0.5\n",
      "    },\n",
      "    \"tns\": {\n",
      "      \"0\": 14.0,\n",
      "      \"1\": 14.0,\n",
      "      \"2\": 12.0,\n",
      "      \"3\": 8.0,\n",
      "      \"4\": 0.0\n",
      "    },\n",
      "    \"fns\": {\n",
      "      \"0\": 2.0,\n",
      "      \"1\": 0.0,\n",
      "      \"2\": 0.0,\n",
      "      \"3\": 0.0,\n",
      "      \"4\": 0.0\n",
      "    },\n",
      "    \"fps\": {\n",
      "      \"0\": 0.0,\n",
      "      \"1\": 0.0,\n",
      "      \"2\": 2.0,\n",
      "      \"3\": 6.0,\n",
      "      \"4\": 14.0\n",
      "    },\n",
      "    \"tps\": {\n",
      "      \"0\": 4.0,\n",
      "      \"1\": 6.0,\n",
      "      \"2\": 6.0,\n",
      "      \"3\": 6.0,\n",
      "      \"4\": 6.0\n",
      "    },\n",
      "    \"tnr\": {\n",
      "      \"0\": 1.0,\n",
      "      \"1\": 1.0,\n",
      "      \"2\": 0.8571428571428571,\n",
      "      \"3\": 0.5714285714285714,\n",
      "      \"4\": 0.0\n",
      "    },\n",
      "    \"fnr\": {\n",
      "      \"0\": 0.3333333333333333,\n",
      "      \"1\": 0.0,\n",
      "      \"2\": 0.0,\n",
      "      \"3\": 0.0,\n",
      "      \"4\": 0.0\n",
      "    },\n",
      "    \"fpr\": {\n",
      "      \"0\": 0.0,\n",
      "      \"1\": 0.0,\n",
      "      \"2\": 0.14285714285714285,\n",
      "      \"3\": 0.42857142857142855,\n",
      "      \"4\": 1.0\n",
      "    },\n",
      "    \"tpr\": {\n",
      "      \"0\": 0.6666666666666666,\n",
      "      \"1\": 1.0,\n",
      "      \"2\": 1.0,\n",
      "      \"3\": 1.0,\n",
      "      \"4\": 1.0\n",
      "    },\n",
      "    \"idx\": {\n",
      "      \"0\": 0,\n",
      "      \"1\": 1,\n",
      "      \"2\": 2,\n",
      "      \"3\": 3,\n",
      "      \"4\": 4\n",
      "    }\n",
      "  }\n",
      "}\n"
     ]
    }
   ],
   "source": [
    "print(\"Resulting metrics: \\n\")\n",
    "print_dict(threshold_metrics)"
   ]
  },
  {
   "cell_type": "markdown",
   "metadata": {},
   "source": [
    "### Save metrics"
   ]
  },
  {
   "cell_type": "code",
   "execution_count": 49,
   "metadata": {},
   "outputs": [],
   "source": [
    "for data_set_name, params in config[\"exec\"][\"save_metrics\"][\"data_sets\"].items():\n",
    "    tasks.store_artifacts(store_artifact_locally, copy_from_local_to_remote, metrics[data_set_name], **params)"
   ]
  },
  {
   "cell_type": "code",
   "execution_count": 50,
   "metadata": {},
   "outputs": [],
   "source": [
    "for data_set_name, params in config[\"exec\"][\"save_threshold_metrics\"][\"data_sets\"].items():\n",
    "    tasks.store_artifacts(store_artifact_locally, copy_from_local_to_remote, metrics[data_set_name], **params)"
   ]
  },
  {
   "cell_type": "markdown",
   "metadata": {},
   "source": [
    "### Predict"
   ]
  },
  {
   "cell_type": "markdown",
   "metadata": {},
   "source": [
    "##### Transform data"
   ]
  },
  {
   "cell_type": "code",
   "execution_count": 51,
   "metadata": {},
   "outputs": [
    {
     "name": "stdout",
     "output_type": "stream",
     "text": [
      "Data transformed with following parameters: \n",
      "\n",
      "null\n"
     ]
    }
   ],
   "source": [
    "data_bunch_predict = maybe_transform(data_bunch_metrics, config[\"exec\"][\"predict\"].get(\"pre_execution_transformation\"))\n",
    "    \n",
    "print(\"Data transformed with following parameters: \\n\")\n",
    "print_dict(config[\"exec\"][\"predict\"].get(\"pre_execution_transformation\"))"
   ]
  },
  {
   "cell_type": "code",
   "execution_count": 52,
   "metadata": {},
   "outputs": [
    {
     "name": "stdout",
     "output_type": "stream",
     "text": [
      "Transformed data_bunch consists of: \n",
      "\n",
      "train <DataSet>\n",
      "  full_data <H2ODataWrapper>\n",
      "  index <H2ODataWrapper>\n",
      "  features <H2ODataWrapper>\n",
      "  targets <H2ODataWrapper>\n",
      "\n",
      "valid <DataSet>\n",
      "  full_data <H2ODataWrapper>\n",
      "  index <H2ODataWrapper>\n",
      "  features <H2ODataWrapper>\n",
      "  targets <H2ODataWrapper>\n",
      "\n",
      "test <DataSet>\n",
      "  full_data <H2ODataWrapper>\n",
      "  index <H2ODataWrapper>\n",
      "  features <H2ODataWrapper>\n",
      "  targets <H2ODataWrapper>\n",
      "\n"
     ]
    }
   ],
   "source": [
    "print(\"Transformed data_bunch consists of: \\n\")\n",
    "print_data_bunch(data_bunch_predict)"
   ]
  },
  {
   "cell_type": "markdown",
   "metadata": {},
   "source": [
    "##### Perform prediction"
   ]
  },
  {
   "cell_type": "code",
   "execution_count": 53,
   "metadata": {},
   "outputs": [
    {
     "name": "stdout",
     "output_type": "stream",
     "text": [
      "drf prediction progress: |████████████████████████████████████████████████| 100%\n"
     ]
    }
   ],
   "source": [
    "for data_set_name in config[\"exec\"][\"predict\"][\"data_set_names\"]:\n",
    "    data_set = getattr(data_bunch_predict, data_set_name)\n",
    "    data_set.predictions = predict(model=model, data_set=data_set, **config[\"exec\"][\"predict\"][\"params\"])"
   ]
  },
  {
   "cell_type": "code",
   "execution_count": 54,
   "metadata": {},
   "outputs": [
    {
     "name": "stdout",
     "output_type": "stream",
     "text": [
      "Data predicted with following parameters: \n",
      "\n",
      "{\n",
      "  \"return_columns\": [\n",
      "    \"p1\"\n",
      "  ]\n",
      "}\n"
     ]
    }
   ],
   "source": [
    "print(\"Data predicted with following parameters: \\n\")\n",
    "print_dict(config[\"exec\"][\"predict\"].get(\"params\"))\n"
   ]
  },
  {
   "cell_type": "code",
   "execution_count": 55,
   "metadata": {},
   "outputs": [
    {
     "data": {
      "text/html": [
       "<table>\n",
       "<thead>\n",
       "<tr><th style=\"text-align: right;\">    p1</th></tr>\n",
       "</thead>\n",
       "<tbody>\n",
       "<tr><td style=\"text-align: right;\">0.0625</td></tr>\n",
       "<tr><td style=\"text-align: right;\">0.0025</td></tr>\n",
       "<tr><td style=\"text-align: right;\">0.0025</td></tr>\n",
       "<tr><td style=\"text-align: right;\">0.0025</td></tr>\n",
       "<tr><td style=\"text-align: right;\">0.0025</td></tr>\n",
       "<tr><td style=\"text-align: right;\">0.0145</td></tr>\n",
       "<tr><td style=\"text-align: right;\">0.0145</td></tr>\n",
       "<tr><td style=\"text-align: right;\">0.952 </td></tr>\n",
       "<tr><td style=\"text-align: right;\">0.952 </td></tr>\n",
       "<tr><td style=\"text-align: right;\">0.9345</td></tr>\n",
       "</tbody>\n",
       "</table>"
      ]
     },
     "metadata": {},
     "output_type": "display_data"
    },
    {
     "data": {
      "text/plain": []
     },
     "execution_count": 55,
     "metadata": {},
     "output_type": "execute_result"
    }
   ],
   "source": [
    "data_bunch_predict.test.predictions.underlying"
   ]
  },
  {
   "cell_type": "markdown",
   "metadata": {},
   "source": [
    "### Evaluate custom metrics"
   ]
  },
  {
   "cell_type": "markdown",
   "metadata": {},
   "source": [
    "##### Transform data"
   ]
  },
  {
   "cell_type": "code",
   "execution_count": 56,
   "metadata": {},
   "outputs": [],
   "source": [
    "data_bunch_custom_metrics = maybe_transform(data_bunch_predict, \n",
    "                                            config[\"exec\"][\"evaluate_custom_metrics\"].get(\"pre_execution_transformation\"))"
   ]
  },
  {
   "cell_type": "code",
   "execution_count": 57,
   "metadata": {},
   "outputs": [
    {
     "name": "stdout",
     "output_type": "stream",
     "text": [
      "Data transformed with following parameters: \n",
      "\n",
      "{\n",
      "  \"data_set_names\": [\n",
      "    \"test\"\n",
      "  ],\n",
      "  \"params\": {\n",
      "    \"transform_to\": \"numpy\",\n",
      "    \"data_wrapper_params\": {\n",
      "      \"predictions\": {},\n",
      "      \"index\": {},\n",
      "      \"targets\": {}\n",
      "    }\n",
      "  }\n",
      "}\n"
     ]
    }
   ],
   "source": [
    "print(\"Data transformed with following parameters: \\n\")\n",
    "print_dict(config[\"exec\"][\"evaluate_custom_metrics\"].get(\"pre_execution_transformation\"))"
   ]
  },
  {
   "cell_type": "code",
   "execution_count": 58,
   "metadata": {},
   "outputs": [
    {
     "name": "stdout",
     "output_type": "stream",
     "text": [
      "Transformed data_bunch consists of: \n",
      "\n",
      "test <DataSet>\n",
      "  predictions <NumpyDataWrapper>\n",
      "  index <NumpyDataWrapper>\n",
      "  targets <NumpyDataWrapper>\n",
      "\n"
     ]
    }
   ],
   "source": [
    "print(\"Transformed data_bunch consists of: \\n\")\n",
    "print_data_bunch(data_bunch_custom_metrics)\n"
   ]
  },
  {
   "cell_type": "markdown",
   "metadata": {},
   "source": [
    "##### Calculate custom metrics\n"
   ]
  },
  {
   "cell_type": "code",
   "execution_count": 59,
   "metadata": {},
   "outputs": [],
   "source": [
    "custom_metrics = {}\n",
    "for data_set_name in config[\"exec\"][\"evaluate_custom_metrics\"][\"data_set_names\"]:\n",
    "    data_set = getattr(data_bunch_custom_metrics, data_set_name)\n",
    "    custom_metrics[data_set_name]  = tasks.evaluate_metrics(data_set, custom_metrics_dict)\n"
   ]
  },
  {
   "cell_type": "code",
   "execution_count": 60,
   "metadata": {},
   "outputs": [
    {
     "name": "stdout",
     "output_type": "stream",
     "text": [
      "Resulting custom metrics: \n",
      "\n",
      "{\n",
      "  \"test\": {\n",
      "    \"evaluate_numpy_auc\": 1.0,\n",
      "    \"evaluate_numpy_micro_auc\": 1.0\n",
      "  }\n",
      "}\n"
     ]
    }
   ],
   "source": [
    "print(\"Resulting custom metrics: \\n\")\n",
    "print_dict(custom_metrics)\n"
   ]
  },
  {
   "cell_type": "markdown",
   "metadata": {},
   "source": [
    "##### Calculate custom label metrics"
   ]
  },
  {
   "cell_type": "code",
   "execution_count": 61,
   "metadata": {},
   "outputs": [],
   "source": [
    "custom_label_metrics = {}\n",
    "for data_set_name in config[\"exec\"][\"evaluate_custom_label_metrics\"][\"data_set_names\"]:\n",
    "    data_set = getattr(data_bunch_custom_metrics, data_set_name)\n",
    "    custom_label_metrics[data_set_name] = tasks.evaluate_label_metrics(data_set, custom_label_metrics_dict)"
   ]
  },
  {
   "cell_type": "code",
   "execution_count": 62,
   "metadata": {},
   "outputs": [
    {
     "name": "stdout",
     "output_type": "stream",
     "text": [
      "Resulting custom label metrics: \n",
      "\n",
      "{\n",
      "  \"test\": {\n",
      "    \"Accuracy\": {\n",
      "      \"field6_target\": 1.0\n",
      "    },\n",
      "    \"ConfMat_Count_field6_target\": {\n",
      "      \"field6_target\": 20\n",
      "    },\n",
      "    \"ConfMat_Rate_field6_target\": {\n",
      "      \"field6_target\": 1.0\n",
      "    }\n",
      "  }\n",
      "}\n"
     ]
    }
   ],
   "source": [
    "print(\"Resulting custom label metrics: \\n\")\n",
    "print_dict(custom_label_metrics)"
   ]
  },
  {
   "cell_type": "code",
   "execution_count": 63,
   "metadata": {},
   "outputs": [],
   "source": [
    "for data_set_name, params in config[\"exec\"][\"save_custom_metrics\"][\"data_sets\"].items():\n",
    "    tasks.store_artifacts(store_artifact_locally, copy_from_local_to_remote,\n",
    "                          custom_metrics[data_set_name], **params)"
   ]
  },
  {
   "cell_type": "code",
   "execution_count": 64,
   "metadata": {},
   "outputs": [
    {
     "name": "stdout",
     "output_type": "stream",
     "text": [
      "Custom metrics saved with following parameters: \n",
      "\n",
      "{\n",
      "  \"data_sets\": {\n",
      "    \"test\": {\n",
      "      \"local_dir\": \"./example_results/local/818c0c6c1c404dddae908823f0d89946/metrics/test\",\n",
      "      \"remote_dir\": \"./example_results/remote/818c0c6c1c404dddae908823f0d89946/metrics/test\",\n",
      "      \"filename\": \"test_h2o__818c0c6c1c404dddae908823f0d89946__test__custom_metrics\"\n",
      "    }\n",
      "  }\n",
      "}\n"
     ]
    }
   ],
   "source": [
    "print(\"Custom metrics saved with following parameters: \\n\")\n",
    "print_dict(config[\"exec\"][\"save_custom_metrics\"])"
   ]
  },
  {
   "cell_type": "code",
   "execution_count": 65,
   "metadata": {},
   "outputs": [],
   "source": [
    "for data_set_name, params in config[\"exec\"][\"save_custom_label_metrics\"][\"data_sets\"].items():\n",
    "    tasks.store_artifacts(store_artifact_locally, copy_from_local_to_remote,\n",
    "                          custom_label_metrics[data_set_name], **params)"
   ]
  },
  {
   "cell_type": "code",
   "execution_count": 66,
   "metadata": {},
   "outputs": [
    {
     "name": "stdout",
     "output_type": "stream",
     "text": [
      "Custom label metrics saved with following parameters: \n",
      "\n",
      "{\n",
      "  \"data_sets\": {\n",
      "    \"test\": {\n",
      "      \"local_dir\": \"./example_results/local/818c0c6c1c404dddae908823f0d89946/metrics/test\",\n",
      "      \"remote_dir\": \"./example_results/remote/818c0c6c1c404dddae908823f0d89946/metrics/test\",\n",
      "      \"filename\": \"test_h2o__818c0c6c1c404dddae908823f0d89946__test__custom_label_metrics\"\n",
      "    }\n",
      "  }\n",
      "}\n"
     ]
    }
   ],
   "source": [
    "print(\"Custom label metrics saved with following parameters: \\n\")\n",
    "print_dict(config[\"exec\"][\"save_custom_label_metrics\"])"
   ]
  },
  {
   "cell_type": "markdown",
   "metadata": {},
   "source": [
    "### Prepare predictions for storage"
   ]
  },
  {
   "cell_type": "markdown",
   "metadata": {},
   "source": [
    "##### Transform data"
   ]
  },
  {
   "cell_type": "code",
   "execution_count": 67,
   "metadata": {},
   "outputs": [],
   "source": [
    "data_bunch_prediction_preparation = maybe_transform(data_bunch_predict, \n",
    "                                                    config[\"exec\"][\"prepare_predictions_for_storage\"].get(\"pre_execution_transformation\"))"
   ]
  },
  {
   "cell_type": "code",
   "execution_count": 68,
   "metadata": {},
   "outputs": [
    {
     "name": "stdout",
     "output_type": "stream",
     "text": [
      "Transformed data_bunch consists of: \n",
      "\n",
      "train <DataSet>\n",
      "  full_data <H2ODataWrapper>\n",
      "  index <H2ODataWrapper>\n",
      "  features <H2ODataWrapper>\n",
      "  targets <H2ODataWrapper>\n",
      "\n",
      "valid <DataSet>\n",
      "  full_data <H2ODataWrapper>\n",
      "  index <H2ODataWrapper>\n",
      "  features <H2ODataWrapper>\n",
      "  targets <H2ODataWrapper>\n",
      "\n",
      "test <DataSet>\n",
      "  full_data <H2ODataWrapper>\n",
      "  index <H2ODataWrapper>\n",
      "  features <H2ODataWrapper>\n",
      "  targets <H2ODataWrapper>\n",
      "  predictions <H2ODataWrapper>\n",
      "\n"
     ]
    }
   ],
   "source": [
    "print(\"Transformed data_bunch consists of: \\n\")\n",
    "print_data_bunch(data_bunch_prediction_preparation)"
   ]
  },
  {
   "cell_type": "markdown",
   "metadata": {},
   "source": [
    "##### Prepare predictions and targets"
   ]
  },
  {
   "cell_type": "code",
   "execution_count": 69,
   "metadata": {},
   "outputs": [],
   "source": [
    "for data_set_name in config[\"exec\"][\"prepare_predictions_for_storage\"][\"data_set_names\"]:\n",
    "    data_set = getattr(data_bunch_prediction_preparation, data_set_name)\n",
    "    data_set.add_data_wrapper_via_concatenate(**config[\"exec\"][\"prepare_predictions_for_storage\"][\"params\"][\"predictions\"])\n",
    "    data_set.add_data_wrapper_via_concatenate(**config[\"exec\"][\"prepare_predictions_for_storage\"][\"params\"][\"targets\"])"
   ]
  },
  {
   "cell_type": "code",
   "execution_count": 70,
   "metadata": {},
   "outputs": [
    {
     "name": "stdout",
     "output_type": "stream",
     "text": [
      "train <DataSet>\n",
      "  full_data <H2ODataWrapper>\n",
      "  index <H2ODataWrapper>\n",
      "  features <H2ODataWrapper>\n",
      "  targets <H2ODataWrapper>\n",
      "\n",
      "valid <DataSet>\n",
      "  full_data <H2ODataWrapper>\n",
      "  index <H2ODataWrapper>\n",
      "  features <H2ODataWrapper>\n",
      "  targets <H2ODataWrapper>\n",
      "\n",
      "test <DataSet>\n",
      "  full_data <H2ODataWrapper>\n",
      "  index <H2ODataWrapper>\n",
      "  features <H2ODataWrapper>\n",
      "  targets <H2ODataWrapper>\n",
      "  predictions <H2ODataWrapper>\n",
      "  predictions_for_storage <H2ODataWrapper>\n",
      "  targets_for_storage <H2ODataWrapper>\n",
      "\n"
     ]
    }
   ],
   "source": [
    "print_data_bunch(data_bunch_prediction_preparation)"
   ]
  },
  {
   "cell_type": "markdown",
   "metadata": {},
   "source": [
    "### Save predictions"
   ]
  },
  {
   "cell_type": "markdown",
   "metadata": {},
   "source": [
    "##### Transform data"
   ]
  },
  {
   "cell_type": "code",
   "execution_count": 71,
   "metadata": {},
   "outputs": [],
   "source": [
    "data_bunch_prediction_storage = maybe_transform(data_bunch_prediction_preparation, \n",
    "                                                config[\"exec\"][\"save_predictions\"].get(\"pre_execution_transformation\"))"
   ]
  },
  {
   "cell_type": "code",
   "execution_count": 72,
   "metadata": {},
   "outputs": [
    {
     "name": "stdout",
     "output_type": "stream",
     "text": [
      "Transformed data_bunch consists of: \n",
      "\n",
      "train <DataSet>\n",
      "  full_data <H2ODataWrapper>\n",
      "  index <H2ODataWrapper>\n",
      "  features <H2ODataWrapper>\n",
      "  targets <H2ODataWrapper>\n",
      "\n",
      "valid <DataSet>\n",
      "  full_data <H2ODataWrapper>\n",
      "  index <H2ODataWrapper>\n",
      "  features <H2ODataWrapper>\n",
      "  targets <H2ODataWrapper>\n",
      "\n",
      "test <DataSet>\n",
      "  full_data <H2ODataWrapper>\n",
      "  index <H2ODataWrapper>\n",
      "  features <H2ODataWrapper>\n",
      "  targets <H2ODataWrapper>\n",
      "  predictions <H2ODataWrapper>\n",
      "  predictions_for_storage <H2ODataWrapper>\n",
      "  targets_for_storage <H2ODataWrapper>\n",
      "\n"
     ]
    }
   ],
   "source": [
    "print(\"Transformed data_bunch consists of: \\n\")\n",
    "print_data_bunch(data_bunch_prediction_storage)"
   ]
  },
  {
   "cell_type": "markdown",
   "metadata": {},
   "source": [
    "##### Save predictions"
   ]
  },
  {
   "cell_type": "code",
   "execution_count": 73,
   "metadata": {},
   "outputs": [
    {
     "name": "stdout",
     "output_type": "stream",
     "text": [
      "Export File progress: |███████████████████████████████████████████████████| 100%\n"
     ]
    }
   ],
   "source": [
    "for data_set_name, data_set_params in config[\"exec\"][\"save_predictions\"][\"data_sets\"].items():\n",
    "    data_set = getattr(data_bunch_prediction_storage, data_set_name)\n",
    "    data_wrapper = getattr(data_set, data_set_params[\"data_wrapper_name\"])\n",
    "    \n",
    "    data_to_store = data_wrapper.underlying\n",
    "   \n",
    "    tasks.store_artifacts(store_prediction_artifact_locally, copy_from_local_to_remote,\n",
    "                          data_to_store, **data_set_params[\"params\"])"
   ]
  },
  {
   "cell_type": "code",
   "execution_count": 74,
   "metadata": {},
   "outputs": [
    {
     "name": "stdout",
     "output_type": "stream",
     "text": [
      "Predictions saved with following parameters: \n",
      "\n",
      "{\n",
      "  \"data_sets\": {\n",
      "    \"test\": {\n",
      "      \"data_wrapper_name\": \"predictions_for_storage\",\n",
      "      \"params\": {\n",
      "        \"local_dir\": \"./example_results/local/818c0c6c1c404dddae908823f0d89946/predictions/test\",\n",
      "        \"remote_dir\": \"./example_results/remote/818c0c6c1c404dddae908823f0d89946/predictions/test\",\n",
      "        \"filename\": \"test_h2o__818c0c6c1c404dddae908823f0d89946__test__predictions\"\n",
      "      }\n",
      "    }\n",
      "  }\n",
      "}\n"
     ]
    }
   ],
   "source": [
    "print(\"Predictions saved with following parameters: \\n\")\n",
    "print_dict(config[\"exec\"][\"save_predictions\"])"
   ]
  },
  {
   "cell_type": "markdown",
   "metadata": {},
   "source": [
    "##### Save targets"
   ]
  },
  {
   "cell_type": "code",
   "execution_count": 75,
   "metadata": {},
   "outputs": [
    {
     "name": "stdout",
     "output_type": "stream",
     "text": [
      "Export File progress: |███████████████████████████████████████████████████| 100%\n"
     ]
    }
   ],
   "source": [
    "for data_set_name, data_set_params in config[\"exec\"][\"save_targets\"][\"data_sets\"].items():\n",
    "    data_set = getattr(data_bunch_prediction_storage, data_set_name)\n",
    "    data_wrapper = getattr(data_set, data_set_params[\"data_wrapper_name\"])\n",
    "    \n",
    "    data_to_store = data_wrapper.underlying\n",
    "   \n",
    "    tasks.store_artifacts(store_prediction_artifact_locally, copy_from_local_to_remote,\n",
    "                          data_to_store, **data_set_params[\"params\"])"
   ]
  },
  {
   "cell_type": "code",
   "execution_count": 76,
   "metadata": {},
   "outputs": [
    {
     "name": "stdout",
     "output_type": "stream",
     "text": [
      "Targets saved with following parameters: \n",
      "\n",
      "{\n",
      "  \"data_sets\": {\n",
      "    \"test\": {\n",
      "      \"data_wrapper_name\": \"targets_for_storage\",\n",
      "      \"params\": {\n",
      "        \"local_dir\": \"./example_results/local/818c0c6c1c404dddae908823f0d89946/predictions/test\",\n",
      "        \"remote_dir\": \"./example_results/remote/818c0c6c1c404dddae908823f0d89946/predictions/test\",\n",
      "        \"filename\": \"test_h2o__818c0c6c1c404dddae908823f0d89946__test__targets\"\n",
      "      }\n",
      "    }\n",
      "  }\n",
      "}\n"
     ]
    }
   ],
   "source": [
    "print(\"Targets saved with following parameters: \\n\")\n",
    "print_dict(config[\"exec\"][\"save_targets\"])"
   ]
  },
  {
   "cell_type": "code",
   "execution_count": null,
   "metadata": {},
   "outputs": [],
   "source": []
  }
 ],
 "metadata": {
  "kernelspec": {
   "display_name": "Python 3",
   "language": "python",
   "name": "python3"
  },
  "language_info": {
   "codemirror_mode": {
    "name": "ipython",
    "version": 3
   },
   "file_extension": ".py",
   "mimetype": "text/x-python",
   "name": "python",
   "nbconvert_exporter": "python",
   "pygments_lexer": "ipython3",
   "version": "3.6.8"
  }
 },
 "nbformat": 4,
 "nbformat_minor": 1
}
